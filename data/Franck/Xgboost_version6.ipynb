{
 "cells": [
  {
   "cell_type": "code",
   "execution_count": 1,
   "id": "7ebe6588-d22c-4f05-aaa5-db2d393eabb4",
   "metadata": {},
   "outputs": [],
   "source": [
    "%run 0.0_Dependance.ipynb"
   ]
  },
  {
   "cell_type": "code",
   "execution_count": 2,
   "id": "85ec184d-6770-4874-9d49-324e84b7a1ef",
   "metadata": {},
   "outputs": [],
   "source": [
    "df = pd.read_csv(\"train.csv\",index_col=0)\n",
    "df[\"N_Year\"]=np.round((df['N_Days']/365),2)\n",
    "df.Age = np.round((df.Age)/365,1)\n",
    "\n",
    "#label encoding\n",
    "from sklearn.preprocessing import LabelEncoder\n",
    "le = LabelEncoder()\n",
    "colonne_a_encoder = [\"Sex\",\"Ascites\",\"Hepatomegaly\",\"Spiders\",\"Edema\",\"Drug\",\"Status\"]\t\n",
    "for i in colonne_a_encoder:\n",
    "    df[i] = le.fit_transform(df[i])\n",
    "\n",
    "from sklearn.preprocessing import RobustScaler\n",
    "\n",
    "target = df.Status\n",
    "data = df.drop(columns=[\"Status\",\"N_Days\"])\n",
    "\n",
    "X_train,X_test,y_train,y_test = train_test_split(data,target,test_size=0.2, random_state=123)\n",
    "#Standardisation\n",
    "scaler = RobustScaler().fit(X_train)\n",
    "X_train = scaler.transform(X_train)\n",
    "X_test = scaler.transform(X_test)\n",
    "\n",
    "from imblearn.over_sampling import SMOTE\n",
    "smote = SMOTE(sampling_strategy='not majority',random_state=42)\n",
    "\n",
    "X_train, y_train = smote.fit_resample(X_train, y_train)"
   ]
  },
  {
   "cell_type": "code",
   "execution_count": null,
   "id": "93e88c0c-a79d-47a1-9511-7d3087a418a0",
   "metadata": {},
   "outputs": [],
   "source": [
    "from sklearn.model_selection import train_test_split\n",
    "from xgboost import XGBClassifier\n",
    "from sklearn.metrics import log_loss\n",
    "import numpy as np\n",
    "from joblib import Parallel, delayed\n",
    "from joblib import dump,load\n",
    "\n",
    "def load_create_dftop(df_path, n_top):\n",
    "    df = load(df_path)\n",
    "    df_sorted = df.sort_values(by=\"LogLoss_mean\", ascending=False)\n",
    "    df_top = df_sorted.iloc[:n_top, :]\n",
    "    return df_top\n",
    "\n",
    "# Fonction pour entraîner le modèle et calculer le log_loss\n",
    "def compute_log_loss(i, df, X_train, y_train, X_test, y_test):\n",
    "    dico = df.iloc[i, :-2].to_dict()\n",
    "    model = XGBClassifier(**dico)\n",
    "    model.fit(X_train, y_train)\n",
    "    probs = model.predict_proba(X_test)\n",
    "    return log_loss(y_test, probs)\n",
    "\n",
    "df_score_random_v6_top_1000 = load_create_dftop(\"df_score_random_v1.joblib\", 1000)\n",
    "\n",
    "# Parallélisation du calcul du log_loss\n",
    "log_losses = Parallel(n_jobs=-1)(delayed(compute_log_loss)(i, df_score_random_v6_top_1000, X_train, y_train, X_test, y_test) for i in range(1000))\n",
    "\n",
    "df_score_random_v6_top_1000['Test_log_loss'] = log_losses\n",
    "df_score_random_v6_top_1000 = df_score_random_v6_top_1000.sort_values(by=\"Test_log_loss\",ascending=True)\n",
    "dump(df_score_random_v6_top_1000,\"df_score_random_v6_top_1000.joblib\")"
   ]
  },
  {
   "cell_type": "code",
   "execution_count": null,
   "id": "60e8b4d2-a8c4-4e51-8d64-964e4000fdc2",
   "metadata": {},
   "outputs": [],
   "source": [
    "df_score_random_v6_top_1000 = load(\"df_score_random_v6_top_1000.joblib\")\n",
    "df_score_random_v6_top_1000"
   ]
  }
 ],
 "metadata": {
  "kernelspec": {
   "display_name": "Python 3 (ipykernel)",
   "language": "python",
   "name": "python3"
  },
  "language_info": {
   "codemirror_mode": {
    "name": "ipython",
    "version": 3
   },
   "file_extension": ".py",
   "mimetype": "text/x-python",
   "name": "python",
   "nbconvert_exporter": "python",
   "pygments_lexer": "ipython3",
   "version": "3.11.5"
  }
 },
 "nbformat": 4,
 "nbformat_minor": 5
}

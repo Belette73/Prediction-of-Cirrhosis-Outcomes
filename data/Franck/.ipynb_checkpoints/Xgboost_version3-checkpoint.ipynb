{
 "cells": [
  {
   "cell_type": "code",
   "execution_count": 2,
   "id": "195df13a-1280-4bc3-9642-1be342dcd070",
   "metadata": {},
   "outputs": [],
   "source": [
    "%run 0.0_Dependance.ipynb"
   ]
  },
  {
   "cell_type": "code",
   "execution_count": 3,
   "id": "79a021b4-9511-47b5-bcdf-1ea7c12caef3",
   "metadata": {},
   "outputs": [],
   "source": [
    "df = pd.read_csv(\"train.csv\",index_col=0)\n",
    "df[\"N_Year\"]=np.round((df['N_Days']/365),2)\n",
    "df.Age = np.round((df.Age)/365,1)\n",
    "\n",
    "for i in ['Bilirubin','Cholesterol','Albumin', 'Copper','Alk_Phos',\n",
    "       'SGOT', 'Tryglicerides', 'Platelets', 'Prothrombin']:\n",
    "    if df[i].dtypes != \"object\":\n",
    "        Q1 = df[i].quantile(0.25)\n",
    "        Q3 = df[i].quantile(0.75)\n",
    "        IQR = Q3 - Q1\n",
    "        lower_bound = Q1 - 1.5 * IQR\n",
    "        upper_bound = Q3 + 1.5 * IQR\n",
    "\n",
    "        df[\"extreme_\" + i] = df[i].apply(lambda x: 1 if (x < lower_bound or x > upper_bound) else 0)\n",
    "\n",
    "#label encoding\n",
    "from sklearn.preprocessing import LabelEncoder\n",
    "le = LabelEncoder()\n",
    "colonne_a_encoder = [\"Sex\",\"Ascites\",\"Hepatomegaly\",\"Spiders\",\"Edema\",\"Drug\",\"Status\"]\t\n",
    "for i in colonne_a_encoder:\n",
    "    df[i] = le.fit_transform(df[i])\n",
    "\n",
    "from sklearn.preprocessing import RobustScaler\n",
    "\n",
    "target = df.Status\n",
    "data = df.drop(columns=[\"Status\",\"N_Days\"])\n",
    "\n",
    "X_train,X_test,y_train,y_test = train_test_split(data,target,test_size=0.2, random_state=123)\n",
    "\n",
    "scaler = StandardScaler().fit(X_train)\n",
    "X_train = scaler.transform(X_train)\n",
    "X_test = scaler.transform(X_test)"
   ]
  },
  {
   "cell_type": "code",
   "execution_count": 4,
   "id": "f25865f6-ff90-4971-901e-fa25325bbe26",
   "metadata": {},
   "outputs": [],
   "source": [
    "from joblib import load, dump\n",
    "\n",
    "df_score_best_test = load(\"df_score_best_test.joblib\")\n",
    "model = XGBClassifier()\n",
    "comparaison = []\n",
    "for j,i in enumerate(df_score_best_test[\"Best_param\"]):\n",
    "    best_model=XGBClassifier(**i)\n",
    "    best_model.fit(X_train,y_train)\n",
    "    probs = best_model.predict_proba(X_test)\n",
    "    logloss = log_loss(y_test, probs)\n",
    "    delta = logloss-df_score_best_test[\"LogLoss\"].values[j]\n",
    "    comparaison.append(delta)"
   ]
  },
  {
   "cell_type": "code",
   "execution_count": 5,
   "id": "e67a8634-a210-46ce-8b1e-a73d63defb37",
   "metadata": {},
   "outputs": [
    {
     "data": {
      "text/plain": [
       "[0.0030836955622207673,\n",
       " -0.00010849649058708444,\n",
       " -0.002108076261859604,\n",
       " 0.0007092781853603181,\n",
       " 0.0006516496611435607]"
      ]
     },
     "execution_count": 5,
     "metadata": {},
     "output_type": "execute_result"
    }
   ],
   "source": [
    "comparaison"
   ]
  }
 ],
 "metadata": {
  "kernelspec": {
   "display_name": "Python 3 (ipykernel)",
   "language": "python",
   "name": "python3"
  },
  "language_info": {
   "codemirror_mode": {
    "name": "ipython",
    "version": 3
   },
   "file_extension": ".py",
   "mimetype": "text/x-python",
   "name": "python",
   "nbconvert_exporter": "python",
   "pygments_lexer": "ipython3",
   "version": "3.11.5"
  }
 },
 "nbformat": 4,
 "nbformat_minor": 5
}

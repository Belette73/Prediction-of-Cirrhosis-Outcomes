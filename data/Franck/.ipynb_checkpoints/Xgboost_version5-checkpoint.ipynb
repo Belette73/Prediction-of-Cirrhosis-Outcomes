{
 "cells": [
  {
   "cell_type": "code",
   "execution_count": 7,
   "id": "16591f22-253c-4443-86d9-99be1c36100f",
   "metadata": {},
   "outputs": [],
   "source": [
    "%run 0.0_Dependance.ipynb"
   ]
  },
  {
   "cell_type": "code",
   "execution_count": 8,
   "id": "f6f00eb6-6429-4e63-9c29-e80805fccfb4",
   "metadata": {},
   "outputs": [],
   "source": [
    "df = pd.read_csv(\"train.csv\",index_col=0)\n",
    "df[\"N_Year\"]=np.round((df['N_Days']/365),2)\n",
    "df.Age = np.round((df.Age)/365,1)\n",
    "\n",
    "#label encoding\n",
    "from sklearn.preprocessing import LabelEncoder\n",
    "le = LabelEncoder()\n",
    "colonne_a_encoder = [\"Sex\",\"Ascites\",\"Hepatomegaly\",\"Spiders\",\"Edema\",\"Drug\",\"Status\"]\t\n",
    "for i in colonne_a_encoder:\n",
    "    df[i] = le.fit_transform(df[i])\n",
    "\n",
    "target = df.Status\n",
    "data = df.drop(columns=[\"Status\",\"N_Days\"])\n",
    "\n",
    "X_train,X_test,y_train,y_test = train_test_split(data,target,test_size=0.2, random_state=123)\n",
    "\n",
    "scaler = StandardScaler().fit(X_train)\n",
    "X_train = scaler.transform(X_train)\n",
    "X_test = scaler.transform(X_test)\n",
    "\n",
    "from imblearn.over_sampling import SMOTE\n",
    "smote = SMOTE(sampling_strategy='not majority',random_state=42)\n",
    "\n",
    "X_train, y_train = smote.fit_resample(X_train, y_train)"
   ]
  },
  {
   "cell_type": "code",
   "execution_count": 12,
   "id": "132638f7-4f54-41b4-8cf6-856983f6edc8",
   "metadata": {},
   "outputs": [
    {
     "data": {
      "text/plain": [
       "Status\n",
       "0    3999\n",
       "2    3999\n",
       "1    3999\n",
       "Name: count, dtype: int64"
      ]
     },
     "execution_count": 12,
     "metadata": {},
     "output_type": "execute_result"
    }
   ],
   "source": [
    "y_train.value_counts()"
   ]
  },
  {
   "cell_type": "code",
   "execution_count": 10,
   "id": "3edbf009-bafd-4db9-bf09-bdaef3f2bdab",
   "metadata": {},
   "outputs": [],
   "source": [
    "from joblib import load, dump\n",
    "\n",
    "df_score_best_test = load(\"df_score_best_test.joblib\")\n",
    "model = XGBClassifier()\n",
    "comparaison = []\n",
    "for j,i in enumerate(df_score_best_test[\"Best_param\"]):\n",
    "    best_model=XGBClassifier(**i)\n",
    "    best_model.fit(X_train,y_train)\n",
    "    probs = best_model.predict_proba(X_test)\n",
    "    logloss = log_loss(y_test, probs)\n",
    "    delta = logloss-df_score_best_test[\"LogLoss\"].values[j]\n",
    "    comparaison.append(delta)"
   ]
  },
  {
   "cell_type": "code",
   "execution_count": 11,
   "id": "1317ce07-3e6a-499f-be71-ff87ea870c5d",
   "metadata": {},
   "outputs": [
    {
     "data": {
      "text/plain": [
       "[0.023851338180844672,\n",
       " 0.0125821282409872,\n",
       " 0.03404464818957437,\n",
       " 0.03794883075012917,\n",
       " 0.02209329424307338]"
      ]
     },
     "execution_count": 11,
     "metadata": {},
     "output_type": "execute_result"
    }
   ],
   "source": [
    "comparaison"
   ]
  }
 ],
 "metadata": {
  "kernelspec": {
   "display_name": "Python 3 (ipykernel)",
   "language": "python",
   "name": "python3"
  },
  "language_info": {
   "codemirror_mode": {
    "name": "ipython",
    "version": 3
   },
   "file_extension": ".py",
   "mimetype": "text/x-python",
   "name": "python",
   "nbconvert_exporter": "python",
   "pygments_lexer": "ipython3",
   "version": "3.11.5"
  }
 },
 "nbformat": 4,
 "nbformat_minor": 5
}

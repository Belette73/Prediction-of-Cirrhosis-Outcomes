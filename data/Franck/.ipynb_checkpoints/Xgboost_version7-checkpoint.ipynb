{
 "cells": [
  {
   "cell_type": "code",
   "execution_count": 1,
   "id": "b391d42e-b490-4de7-bb6d-8b2f7da345a0",
   "metadata": {},
   "outputs": [],
   "source": [
    "%run 0.0_Dependance.ipynb"
   ]
  },
  {
   "cell_type": "code",
   "execution_count": 2,
   "id": "a8320def-392e-4541-9015-864ed8f5cecf",
   "metadata": {},
   "outputs": [],
   "source": [
    "df = pd.read_csv(\"train.csv\",index_col=0)\n",
    "df[\"N_Year\"]=np.round((df['N_Days']/365),2)\n",
    "df.Age = np.round((df.Age)/365,1)\n",
    "\n",
    "for i in ['Bilirubin','Cholesterol','Albumin', 'Copper','Alk_Phos',\n",
    "       'SGOT', 'Tryglicerides', 'Platelets', 'Prothrombin']:\n",
    "    if df[i].dtypes != \"object\":\n",
    "        Q1 = df[i].quantile(0.25)\n",
    "        Q3 = df[i].quantile(0.75)\n",
    "        IQR = Q3 - Q1\n",
    "        lower_bound = Q1 - 1.5 * IQR\n",
    "        upper_bound = Q3 + 1.5 * IQR\n",
    "\n",
    "        df[\"extreme_\" + i] = df[i].apply(lambda x: 1 if (x < lower_bound or x > upper_bound) else 0)\n",
    "\n",
    "#label encoding\n",
    "from sklearn.preprocessing import LabelEncoder\n",
    "le = LabelEncoder()\n",
    "colonne_a_encoder = [\"Sex\",\"Ascites\",\"Hepatomegaly\",\"Spiders\",\"Edema\",\"Drug\",\"Status\"]\t\n",
    "for i in colonne_a_encoder:\n",
    "    df[i] = le.fit_transform(df[i])\n",
    "\n",
    "target = df.Status\n",
    "data = df.drop(columns=[\"Status\",\"N_Days\"])\n",
    "\n",
    "X_train,X_test,y_train,y_test = train_test_split(data,target,test_size=0.2, random_state=123)\n",
    "\n",
    "from sklearn.preprocessing import RobustScaler\n",
    "scaler = RobustScaler().fit(X_train)\n",
    "X_train = scaler.transform(X_train)\n",
    "X_test = scaler.transform(X_test)\n",
    "\n",
    "from imblearn.over_sampling import SMOTE\n",
    "smote = SMOTE(sampling_strategy='not majority',random_state=42)\n",
    "\n",
    "X_train, y_train = smote.fit_resample(X_train, y_train)\n"
   ]
  },
  {
   "cell_type": "code",
   "execution_count": 3,
   "id": "f47d4fd5-7fd7-4741-afb1-0259c5b9bfb0",
   "metadata": {},
   "outputs": [],
   "source": [
    "from joblib import load, dump\n",
    "\n",
    "df_score_best_test = load(\"df_score_best_test.joblib\")\n",
    "model = XGBClassifier()\n",
    "comparaison = []\n",
    "for j,i in enumerate(df_score_best_test[\"Best_param\"]):\n",
    "    best_model=XGBClassifier(**i)\n",
    "    best_model.fit(X_train,y_train)\n",
    "    probs = best_model.predict_proba(X_test)\n",
    "    logloss = log_loss(y_test, probs)\n",
    "    delta = logloss-df_score_best_test[\"LogLoss\"].values[j]\n",
    "    comparaison.append(delta)"
   ]
  },
  {
   "cell_type": "code",
   "execution_count": 4,
   "id": "37510e92-3df2-42ba-b61b-3b93ad1083ab",
   "metadata": {},
   "outputs": [
    {
     "data": {
      "text/plain": [
       "[0.012324810224962679,\n",
       " 0.0030839229682850244,\n",
       " 0.020209491159529636,\n",
       " 0.024901502353639027,\n",
       " 0.011087240195628845]"
      ]
     },
     "execution_count": 4,
     "metadata": {},
     "output_type": "execute_result"
    }
   ],
   "source": [
    "comparaison"
   ]
  }
 ],
 "metadata": {
  "kernelspec": {
   "display_name": "Python 3 (ipykernel)",
   "language": "python",
   "name": "python3"
  },
  "language_info": {
   "codemirror_mode": {
    "name": "ipython",
    "version": 3
   },
   "file_extension": ".py",
   "mimetype": "text/x-python",
   "name": "python",
   "nbconvert_exporter": "python",
   "pygments_lexer": "ipython3",
   "version": "3.11.5"
  }
 },
 "nbformat": 4,
 "nbformat_minor": 5
}

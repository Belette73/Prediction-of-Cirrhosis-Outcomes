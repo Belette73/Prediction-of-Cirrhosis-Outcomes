{
 "cells": [
  {
   "cell_type": "code",
   "execution_count": 1,
   "id": "7ebe6588-d22c-4f05-aaa5-db2d393eabb4",
   "metadata": {},
   "outputs": [],
   "source": [
    "%run 0.0_Dependance.ipynb"
   ]
  },
  {
   "cell_type": "code",
   "execution_count": 2,
   "id": "85ec184d-6770-4874-9d49-324e84b7a1ef",
   "metadata": {},
   "outputs": [],
   "source": [
    "df = pd.read_csv(\"train.csv\",index_col=0)\n",
    "df[\"N_Year\"]=np.round((df['N_Days']/365),2)\n",
    "df.Age = np.round((df.Age)/365,1)\n",
    "\n",
    "#label encoding\n",
    "from sklearn.preprocessing import LabelEncoder\n",
    "le = LabelEncoder()\n",
    "colonne_a_encoder = [\"Sex\",\"Ascites\",\"Hepatomegaly\",\"Spiders\",\"Edema\",\"Drug\",\"Status\"]\t\n",
    "for i in colonne_a_encoder:\n",
    "    df[i] = le.fit_transform(df[i])\n",
    "\n",
    "from sklearn.preprocessing import RobustScaler\n",
    "\n",
    "target = df.Status\n",
    "data = df.drop(columns=[\"Status\",\"N_Days\"])\n",
    "\n",
    "X_train,X_test,y_train,y_test = train_test_split(data,target,test_size=0.2, random_state=123)\n",
    "#Standardisation\n",
    "scaler = RobustScaler().fit(X_train)\n",
    "X_train = scaler.transform(X_train)\n",
    "X_test = scaler.transform(X_test)\n",
    "\n",
    "from imblearn.over_sampling import SMOTE\n",
    "smote = SMOTE(sampling_strategy='not majority',random_state=42)\n",
    "\n",
    "X_train, y_train = smote.fit_resample(X_train, y_train)"
   ]
  },
  {
   "cell_type": "code",
   "execution_count": 3,
   "id": "93e88c0c-a79d-47a1-9511-7d3087a418a0",
   "metadata": {},
   "outputs": [],
   "source": [
    "from joblib import load, dump\n",
    "\n",
    "df_score_best_test = load(\"df_score_best_test.joblib\")\n",
    "model = XGBClassifier()\n",
    "comparaison = []\n",
    "for j,i in enumerate(df_score_best_test[\"Best_param\"]):\n",
    "    best_model=XGBClassifier(**i)\n",
    "    best_model.fit(X_train,y_train)\n",
    "    probs = best_model.predict_proba(X_test)\n",
    "    logloss = log_loss(y_test, probs)\n",
    "    delta = logloss-df_score_best_test[\"LogLoss\"].values[j]\n",
    "    comparaison.append(delta)"
   ]
  },
  {
   "cell_type": "code",
   "execution_count": 4,
   "id": "60e8b4d2-a8c4-4e51-8d64-964e4000fdc2",
   "metadata": {},
   "outputs": [
    {
     "data": {
      "text/plain": [
       "[0.008427688557520407,\n",
       " 0.000993464816389955,\n",
       " 0.018260632771981145,\n",
       " 0.021236308827421446,\n",
       " 0.008140741721694045]"
      ]
     },
     "execution_count": 4,
     "metadata": {},
     "output_type": "execute_result"
    }
   ],
   "source": [
    "comparaison"
   ]
  }
 ],
 "metadata": {
  "kernelspec": {
   "display_name": "Python 3 (ipykernel)",
   "language": "python",
   "name": "python3"
  },
  "language_info": {
   "codemirror_mode": {
    "name": "ipython",
    "version": 3
   },
   "file_extension": ".py",
   "mimetype": "text/x-python",
   "name": "python",
   "nbconvert_exporter": "python",
   "pygments_lexer": "ipython3",
   "version": "3.11.5"
  }
 },
 "nbformat": 4,
 "nbformat_minor": 5
}

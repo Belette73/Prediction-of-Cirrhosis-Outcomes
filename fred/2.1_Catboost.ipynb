{
 "cells": [
  {
   "cell_type": "code",
   "execution_count": 30,
   "id": "f182413c-91a6-4aab-ba89-2910f92deb74",
   "metadata": {},
   "outputs": [],
   "source": [
    "%run 0.0.dependances.ipynb"
   ]
  },
  {
   "cell_type": "code",
   "execution_count": 31,
   "id": "acabc505-77ed-42d5-a522-4f157c1d0f0d",
   "metadata": {},
   "outputs": [
    {
     "name": "stdout",
     "output_type": "stream",
     "text": [
      "creation de df_train\n",
      "-->Done\n",
      "\n",
      "identification des variables numériques et catégorielles \n",
      "-->Done\n",
      "\n",
      "la cible est la colonne : 18\n",
      "Colonnes catégorielles :  ['Drug', 'Sex', 'Ascites', 'Hepatomegaly', 'Spiders', 'Edema']\n",
      "\n",
      "Encodage des variables catégorielles avec Labelencoder\n",
      "-->Done\n",
      "\n",
      "préparation des données\n",
      "-->Done\n",
      "\n",
      "--> les indices des colonnes catégorielles sont :  [1, 3, 4, 5, 6, 7]\n",
      "préparation des données avec Robustscaler\n",
      "-->Done\n",
      "\n"
     ]
    }
   ],
   "source": [
    "X_train,X_test,y_train,y_test,target,data,cat_indicies= load_data()"
   ]
  },
  {
   "cell_type": "code",
   "execution_count": 81,
   "id": "b1f55f41-500a-4c2f-82b6-f24228a13dc1",
   "metadata": {},
   "outputs": [],
   "source": [
    "train_dataset = cb.Pool(X_train,y_train)\n",
    "test_dataset = cb.Pool(X_test,y_test)\n",
    "\n"
   ]
  },
  {
   "cell_type": "code",
   "execution_count": 54,
   "id": "33dcf1c4-8678-4b94-bf39-104a9637202f",
   "metadata": {},
   "outputs": [],
   "source": [
    "PATIENCE = 100  #Nombre d'itérations à attendre lors de l'arrêt anticipé\n",
    "modelsCB = []  #Liste qui stockera les modèles CatBoost entraînés.\n",
    "predsCB = []  #Liste qui stockera les prédictions des modèles sur l'ensemble de test.\n",
    "logLossCB=[]\n",
    "n_folds = 5\n",
    "repeats = 3\n",
    "\n",
    "k_fold = RepeatedStratifiedKFold(n_splits=n_folds, n_repeats=repeats, random_state=42) #Repeats Stratified K-Fold n_repeats times with different randomization in each repetition.\n",
    "# repeats : Nombre de répétitions de la validation croisée.\n",
    "#n_folds : Nombre de plis dans la validation croisée.\n",
    "    \n",
    "cbr_params = {\n",
    "    'learning_rate': 0.1,\n",
    "    'l2_leaf_reg': 3,\n",
    "     'depth': 6,\n",
    "    'logging_level': 'Silent',\n",
    "    'random_seed': 42,\n",
    "   'iterations': 275}\n",
    "\n",
    "for train_index, test_index in k_fold.split(data,target):\n",
    "    X_train, X_test = data[train_index], data[test_index]\n",
    "    y_train, y_test = target[train_index], target[test_index]\n",
    "    \n",
    "    modelc = cb.CatBoostClassifier(**cbr_params)\n",
    "    modelsCB.append(modelc)\n",
    "    \n",
    "    modelc.fit(X=X_train, y=y_train,\n",
    "          eval_set=[(X_test, y_test)],\n",
    "          early_stopping_rounds = PATIENCE,\n",
    "         )\n",
    "\n",
    "    #prédiction\n",
    "    y_pred_proba = modelc.predict(X_test)\n",
    "    #y_pred_proba =  best_model.predict(X_test)\n",
    "    predsCB.append(y_pred_proba)\n",
    "    \n",
    "    logloss = log_loss(y_test, y_pred_proba)\n",
    "    logLossCB.append(logloss)\n"
   ]
  },
  {
   "cell_type": "code",
   "execution_count": null,
   "id": "75798ac1-78f6-4d9e-8d92-a70401bbb0a2",
   "metadata": {},
   "outputs": [],
   "source": [
    "print(classification_report(y_test, y_pred_proba))"
   ]
  },
  {
   "cell_type": "code",
   "execution_count": 55,
   "id": "aa331722-987f-40cf-a921-360944a7e3a9",
   "metadata": {},
   "outputs": [
    {
     "name": "stdout",
     "output_type": "stream",
     "text": [
      "[13.40522972346672, 13.40522972346672, 13.382431713732931, 13.428027733200508, 13.428027733200508, 13.428027733200508, 13.405229723466721, 13.405229723466721, 13.450825742934295, 13.40522972346672, 13.428027733200508, 13.450825742934295, 13.40522972346672, 13.450825742934295, 13.40522972346672]\n"
     ]
    }
   ],
   "source": [
    "print(logLossCB)"
   ]
  },
  {
   "cell_type": "code",
   "execution_count": null,
   "id": "c86816e4-51f5-4802-9768-f7f34768f14e",
   "metadata": {},
   "outputs": [],
   "source": [
    "print(classification_report(y_test, y_pred_proba))"
   ]
  }
 ],
 "metadata": {
  "kernelspec": {
   "display_name": "Python 3 (ipykernel)",
   "language": "python",
   "name": "python3"
  },
  "language_info": {
   "codemirror_mode": {
    "name": "ipython",
    "version": 3
   },
   "file_extension": ".py",
   "mimetype": "text/x-python",
   "name": "python",
   "nbconvert_exporter": "python",
   "pygments_lexer": "ipython3",
   "version": "3.11.5"
  }
 },
 "nbformat": 4,
 "nbformat_minor": 5
}

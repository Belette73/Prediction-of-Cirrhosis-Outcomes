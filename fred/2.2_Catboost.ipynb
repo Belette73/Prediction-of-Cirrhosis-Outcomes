{
 "cells": [
  {
   "cell_type": "code",
   "execution_count": 1,
   "id": "f182413c-91a6-4aab-ba89-2910f92deb74",
   "metadata": {},
   "outputs": [],
   "source": [
    "%run 0.0.dependances.ipynb"
   ]
  },
  {
   "cell_type": "code",
   "execution_count": 2,
   "id": "acabc505-77ed-42d5-a522-4f157c1d0f0d",
   "metadata": {},
   "outputs": [
    {
     "name": "stdout",
     "output_type": "stream",
     "text": [
      "creation de df_train\n",
      "-->Done\n",
      "\n",
      "identification des variables numériques et catégorielles \n",
      "-->Done\n",
      "\n",
      "la cible est la colonne : 18\n",
      "Colonnes catégorielles :  ['Drug', 'Sex', 'Ascites', 'Hepatomegaly', 'Spiders', 'Edema']\n",
      "\n",
      "Encodage des variables catégorielles avec Labelencoder\n",
      "-->Done\n",
      "\n",
      "préparation des données\n",
      "-->Done\n",
      "\n",
      "--> les indices des colonnes catégorielles sont :  [1, 3, 4, 5, 6, 7]\n",
      "préparation des données avec Robustscaler\n",
      "-->Done\n",
      "\n"
     ]
    }
   ],
   "source": [
    "X_train,X_test,y_train,y_test,target,data,cat_indicies= load_data()"
   ]
  },
  {
   "cell_type": "code",
   "execution_count": 3,
   "id": "b1f55f41-500a-4c2f-82b6-f24228a13dc1",
   "metadata": {},
   "outputs": [],
   "source": [
    "train_dataset = cb.Pool(X_train,y_train)\n",
    "test_dataset = cb.Pool(X_test,y_test)"
   ]
  },
  {
   "cell_type": "code",
   "execution_count": 4,
   "id": "33dcf1c4-8678-4b94-bf39-104a9637202f",
   "metadata": {},
   "outputs": [
    {
     "name": "stdout",
     "output_type": "stream",
     "text": [
      "Requirement already satisfied: optuna in c:\\users\\frederic\\anaconda3\\lib\\site-packages (3.5.0)\n",
      "Requirement already satisfied: alembic>=1.5.0 in c:\\users\\frederic\\anaconda3\\lib\\site-packages (from optuna) (1.13.1)\n",
      "Requirement already satisfied: colorlog in c:\\users\\frederic\\anaconda3\\lib\\site-packages (from optuna) (6.8.0)\n",
      "Requirement already satisfied: numpy in c:\\users\\frederic\\anaconda3\\lib\\site-packages (from optuna) (1.26.2)\n",
      "Requirement already satisfied: packaging>=20.0 in c:\\users\\frederic\\anaconda3\\lib\\site-packages (from optuna) (23.1)\n",
      "Requirement already satisfied: sqlalchemy>=1.3.0 in c:\\users\\frederic\\anaconda3\\lib\\site-packages (from optuna) (2.0.21)\n",
      "Requirement already satisfied: tqdm in c:\\users\\frederic\\anaconda3\\lib\\site-packages (from optuna) (4.65.0)\n",
      "Requirement already satisfied: PyYAML in c:\\users\\frederic\\anaconda3\\lib\\site-packages (from optuna) (6.0.1)\n",
      "Requirement already satisfied: Mako in c:\\users\\frederic\\anaconda3\\lib\\site-packages (from alembic>=1.5.0->optuna) (1.3.0)\n",
      "Requirement already satisfied: typing-extensions>=4 in c:\\users\\frederic\\anaconda3\\lib\\site-packages (from alembic>=1.5.0->optuna) (4.7.1)\n",
      "Requirement already satisfied: greenlet!=0.4.17 in c:\\users\\frederic\\anaconda3\\lib\\site-packages (from sqlalchemy>=1.3.0->optuna) (3.0.1)\n",
      "Requirement already satisfied: colorama in c:\\users\\frederic\\anaconda3\\lib\\site-packages (from colorlog->optuna) (0.4.6)\n",
      "Requirement already satisfied: MarkupSafe>=0.9.2 in c:\\users\\frederic\\anaconda3\\lib\\site-packages (from Mako->alembic>=1.5.0->optuna) (2.1.1)\n"
     ]
    }
   ],
   "source": [
    "#!pip install optuna\n",
    "\n",
    "def objective_cat(trial):\n",
    "    \"\"\"Define the objective function\"\"\"\n",
    "    params = {\n",
    "        'logging_level': trial.suggest_categorical('logging_level', ['Silent']),\n",
    "        \"random_seed\" : trial.suggest_categorical('random_seed', [42]),\n",
    "        'learning_rate': trial.suggest_float('learning_rate', 0.01, 0.1),\n",
    "        \"depth\" : trial.suggest_int(\"depth\", 3, 12),\n",
    "        \"iterations\" : trial.suggest_int(\"iterations\", 100, 300)    }\n",
    "\n",
    "\n",
    "    model_cat = CatBoostClassifier(**params)\n",
    "    model_cat.fit(X_train, y_train)\n",
    "    y_pred = model_cat.predict_proba(X_test)\n",
    "    return log_loss(y_test,y_pred)\n",
    "\n",
    "\n",
    "study_cat = optuna.create_study(direction='minimize')\n",
    "optuna.logging.set_verbosity(optuna.logging.WARNING)\n",
    "study_cat.optimize(objective_cat, n_trials=50,show_progress_bar=True)\n",
    "\n",
    "\n",
    "# Print the best parameters\n",
    "print('Best parameters', study_cat.best_params)\n",
    "#Best parameters {'logging_level': 'Silent', 'random_seed': 42, 'learning_rate': 0.08218296214452595, 'depth': 7, 'iterations': 300}\n",
    "\n",
    "cat = CatBoostClassifier(**study_cat.best_params)\n",
    "cat.fit(X_train, y_train)\n",
    "y_pred = cat.predict_proba(X_test)\n",
    "\n",
    "print('Log Loss: ', log_loss(y_test, y_pred))"
   ]
  },
  {
   "cell_type": "code",
   "execution_count": 5,
   "id": "c86816e4-51f5-4802-9768-f7f34768f14e",
   "metadata": {},
   "outputs": [
    {
     "name": "stderr",
     "output_type": "stream",
     "text": [
      "[I 2023-12-24 14:12:28,151] A new study created in memory with name: no-name-46905472-2222-43bd-9225-718f10fa2aa4\n"
     ]
    },
    {
     "data": {
      "application/vnd.jupyter.widget-view+json": {
       "model_id": "f38d8322e30a406685fdb7f1b250d5cb",
       "version_major": 2,
       "version_minor": 0
      },
      "text/plain": [
       "  0%|          | 0/50 [00:00<?, ?it/s]"
      ]
     },
     "metadata": {},
     "output_type": "display_data"
    }
   ],
   "source": [
    "study_cat = optuna.create_study(direction='minimize')\n",
    "optuna.logging.set_verbosity(optuna.logging.WARNING)\n",
    "study_cat.optimize(objective_cat, n_trials=50,show_progress_bar=True)\n"
   ]
  },
  {
   "cell_type": "code",
   "execution_count": 7,
   "id": "65703ab0-a682-4e8e-b95b-08112cb6b7d0",
   "metadata": {},
   "outputs": [
    {
     "name": "stdout",
     "output_type": "stream",
     "text": [
      "Best parameters {'logging_level': 'Silent', 'random_seed': 42, 'learning_rate': 0.0943667676047404, 'depth': 4, 'iterations': 275}\n",
      "Log Loss:  0.3555671725707484\n"
     ]
    }
   ],
   "source": [
    "# Print the best parameters\n",
    "print('Best parameters', study_cat.best_params)\n",
    "#Best parameters {'logging_level': 'Silent', 'random_seed': 42, 'learning_rate': 0.08218296214452595, 'depth': 7, 'iterations': 300}\n",
    "\n",
    "cat = CatBoostClassifier(**study_cat.best_params)\n",
    "cat.fit(X_train, y_train)\n",
    "y_pred = cat.predict_proba(X_test)\n",
    "\n",
    "print('Log Loss: ', log_loss(y_test, y_pred))"
   ]
  },
  {
   "cell_type": "code",
   "execution_count": null,
   "id": "cc1226aa-3135-4bfb-9939-9316f74304d2",
   "metadata": {},
   "outputs": [],
   "source": []
  }
 ],
 "metadata": {
  "kernelspec": {
   "display_name": "Python 3 (ipykernel)",
   "language": "python",
   "name": "python3"
  },
  "language_info": {
   "codemirror_mode": {
    "name": "ipython",
    "version": 3
   },
   "file_extension": ".py",
   "mimetype": "text/x-python",
   "name": "python",
   "nbconvert_exporter": "python",
   "pygments_lexer": "ipython3",
   "version": "3.11.5"
  }
 },
 "nbformat": 4,
 "nbformat_minor": 5
}

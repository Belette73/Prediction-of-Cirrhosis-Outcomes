{
 "cells": [
  {
   "cell_type": "code",
   "execution_count": null,
   "id": "663f7d91-2d80-4574-b07a-c2556e4c1120",
   "metadata": {},
   "outputs": [],
   "source": []
  },
  {
   "cell_type": "code",
   "execution_count": 112,
   "id": "c3389d8f-70a2-466a-98ad-ad6e7fd7ef57",
   "metadata": {},
   "outputs": [],
   "source": [
    "%run 0.0.dependances.ipynb"
   ]
  },
  {
   "cell_type": "markdown",
   "id": "6c739c43-e465-4e68-a648-205f6298bd0a",
   "metadata": {},
   "source": [
    "# Chargement des données"
   ]
  },
  {
   "cell_type": "code",
   "execution_count": 113,
   "id": "d1f1f9ea-d6e3-49e4-af92-afeb132789f9",
   "metadata": {},
   "outputs": [
    {
     "name": "stdout",
     "output_type": "stream",
     "text": [
      "C:\\Users\\Frederic\\Documents\\GitHub\\Tennis_analysis\\Prediction-of-Cirrhosis-Outcomes/data/train.csv\n",
      "C:\\Users\\Frederic\\Documents\\GitHub\\Tennis_analysis\\Prediction-of-Cirrhosis-Outcomes/data/test.csv\n"
     ]
    }
   ],
   "source": [
    "path = r\"C:\\Users\\Frederic\\Documents\\GitHub\\Tennis_analysis\\Prediction-of-Cirrhosis-Outcomes\"\n",
    "train_path = os.path.abspath(path) + \"/data\" +\"/train.csv\"\n",
    "test_path = os.path.abspath(path) + \"/data\" +\"/test.csv\"\n",
    "print(train_path)\n",
    "print(test_path)"
   ]
  },
  {
   "cell_type": "markdown",
   "id": "5808f898-2a77-48b5-adaa-5ab872af0394",
   "metadata": {},
   "source": [
    "## Encodage des variables catégorielles"
   ]
  },
  {
   "cell_type": "markdown",
   "id": "a2627b91-55b8-4525-a60d-388d54ad3290",
   "metadata": {},
   "source": [
    "[Lien vers un notebook Kaggle](https://www.kaggle.com/code/markuslill/s3e26-xgbclassifer?scriptVersionId=155239835&cellId=25)"
   ]
  },
  {
   "cell_type": "markdown",
   "id": "df5fcada-0650-460b-804f-912801715fa7",
   "metadata": {},
   "source": [
    "<img src=\"Encodage_variables.png\" width=\"800\" height=\"1200\">"
   ]
  },
  {
   "cell_type": "code",
   "execution_count": 114,
   "id": "6909e602-c165-4f75-81de-cc3e755ec15c",
   "metadata": {},
   "outputs": [
    {
     "name": "stdout",
     "output_type": "stream",
     "text": [
      "Unique values in categorical columns : \n",
      "\n",
      "+---------------+---------------+\n",
      "|    Features   | Unique Values |\n",
      "+---------------+---------------+\n",
      "|     N_Days    |      461      |\n",
      "|      Drug     |       2       |\n",
      "|      Age      |      391      |\n",
      "|      Sex      |       2       |\n",
      "|    Ascites    |       2       |\n",
      "|  Hepatomegaly |       2       |\n",
      "|    Spiders    |       2       |\n",
      "|     Edema     |       3       |\n",
      "|   Bilirubin   |      111      |\n",
      "|  Cholesterol  |      226      |\n",
      "|    Albumin    |      160      |\n",
      "|     Copper    |      171      |\n",
      "|    Alk_Phos   |      364      |\n",
      "|      SGOT     |      206      |\n",
      "| Tryglicerides |      154      |\n",
      "|   Platelets   |      227      |\n",
      "|  Prothrombin  |       49      |\n",
      "|     Stage     |       4       |\n",
      "|     Status    |       3       |\n",
      "+---------------+---------------+\n"
     ]
    }
   ],
   "source": [
    "table = PrettyTable()\n",
    "table.field_names = [\"Features\",\"Unique Values\"]\n",
    "for i in list(df_train.columns) :\n",
    "    nunique =df_train[str(i)].nunique\n",
    "    table.add_row([i, f\"{nunique()}\"])\n",
    "print('Unique values in categorical columns : \\n')\n",
    "print(table)"
   ]
  },
  {
   "cell_type": "code",
   "execution_count": null,
   "id": "9d2696bb-9200-4c12-bf80-76458bcc4ff9",
   "metadata": {},
   "outputs": [],
   "source": []
  }
 ],
 "metadata": {
  "kernelspec": {
   "display_name": "Python 3 (ipykernel)",
   "language": "python",
   "name": "python3"
  },
  "language_info": {
   "codemirror_mode": {
    "name": "ipython",
    "version": 3
   },
   "file_extension": ".py",
   "mimetype": "text/x-python",
   "name": "python",
   "nbconvert_exporter": "python",
   "pygments_lexer": "ipython3",
   "version": "3.11.5"
  }
 },
 "nbformat": 4,
 "nbformat_minor": 5
}

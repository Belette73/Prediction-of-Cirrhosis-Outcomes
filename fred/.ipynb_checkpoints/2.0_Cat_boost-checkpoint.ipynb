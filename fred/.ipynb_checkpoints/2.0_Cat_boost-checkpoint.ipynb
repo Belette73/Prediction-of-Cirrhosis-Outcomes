{
 "cells": [
  {
   "cell_type": "code",
   "execution_count": 1,
   "id": "3d090016-9385-48c0-b6aa-8242377d8880",
   "metadata": {},
   "outputs": [],
   "source": [
    "%run 0.0.dependances.ipynb"
   ]
  },
  {
   "cell_type": "code",
   "execution_count": 2,
   "id": "67bf3279-f5d3-401b-88d3-cbc3efb3573b",
   "metadata": {},
   "outputs": [
    {
     "name": "stdout",
     "output_type": "stream",
     "text": [
      "creation de df_train\n",
      "-->Done\n",
      "\n",
      "identification des variables numériques et catégorielles \n",
      "-->Done\n",
      "\n",
      "la cible est la colonne : 18\n",
      "Colonnes catégorielles :  ['Drug', 'Sex', 'Ascites', 'Hepatomegaly', 'Spiders', 'Edema']\n",
      "\n",
      "Encodage des variables catégorielles avec Labelencoder\n",
      "-->Done\n",
      "\n",
      "préparation des données\n",
      "-->Done\n",
      "\n",
      "--> les indices des colonnes catégorielles sont :  [1, 3, 4, 5, 6, 7]\n",
      "préparation des données avec Robustscaler\n",
      "-->Done\n",
      "\n"
     ]
    }
   ],
   "source": [
    "X_train,X_test,y_train,y_test,target,data,cat_indicies = load_data()"
   ]
  },
  {
   "cell_type": "code",
   "execution_count": 8,
   "id": "79d7d983-7a67-4597-84ad-69e151fe3dcd",
   "metadata": {},
   "outputs": [],
   "source": [
    "model_1 = cb.CatBoostClassifier(loss_function='MultiClass', eval_metric='Accuracy')\n",
    "model_2 = cb.CatBoostClassifier(loss_function='MultiLogloss', eval_metric='Accuracy')\n",
    "\n",
    "\n",
    "def test_model(X_train, y_train, number,trial):\n",
    "    # Définition de la grille des hyperparamètres\n",
    "    grid = {'learning_rate': [0.01, 0.1,1],\n",
    "        'depth': [4,6,10,1],\n",
    "        'l2_leaf_reg': [1, 3, 5,10],\n",
    "        'iterations': [50,100,150,200]}\n",
    "    #model = f'model_{number}'\n",
    "   \n",
    "    if number == 1:\n",
    "        model = model_1 \n",
    "    if number==2:\n",
    "        model = model_2        \n",
    "            \n",
    "    # Utilisation de RandomizedSearchCV avec CatBoost sans Pool\n",
    "    clf = RandomizedSearchCV(model, grid, random_state=0, n_iter=10, cv=3, scoring='accuracy')\n",
    "    search = clf.fit(X_train, y_train,verbose=0)\n",
    "\n",
    "    best_estimator = search.best_estimator_\n",
    "    best_param = search.best_params_\n",
    "    print(\"\\n\\n\")\n",
    "    print(\"les meilleurs paramètres sont : \", best_param)\n",
    "\n",
    "    #constitution des Dataset Pool\n",
    "    train_dataset = cb.Pool(X_train,y_train)\n",
    "    test_dataset = cb.Pool(X_test,y_test)\n",
    "\n",
    "    #Entrainement\n",
    "    search.best_estimator_.fit(train_dataset)\n",
    "    best_estimator = search.best_estimator_\n",
    "    \n",
    "    #best_model = cb.CatBoostClassifier(**search.best_params)\n",
    "    \n",
    "    #prédiction\n",
    "    y_pred_proba = best_estimator.predict_proba(X_test)\n",
    "    \n",
    "    # Calcul de la LogLoss sur l'ensemble de test\n",
    "    logloss = log_loss(y_test, y_pred_proba)\n",
    "    \n",
    "    print(\"\\n\\n\")\n",
    "    print(\"\\\\\\\\\\\\\\\\\\\\\\\\\\\\\\\\\\\\\\\\\\\\\\\\\\\\\\\\\\\\\\\\\\\\\\\\\\\\\")\n",
    "    print(\"La valeur de la logLoss est de \", logloss)\n",
    "    print(\"\\\\\\\\\\\\\\\\\\\\\\\\\\\\\\\\\\\\\\\\\\\\\\\\\\\\\\\\\\\\\\\\\\\\\\\\\\\\\")\n",
    "    return logloss "
   ]
  },
  {
   "cell_type": "code",
   "execution_count": 26,
   "id": "888aafd8-eef8-463f-b790-effa333588dd",
   "metadata": {},
   "outputs": [
    {
     "name": "stdout",
     "output_type": "stream",
     "text": [
      "\n",
      "\n",
      "\n",
      "les meilleurs paramètres sont :  {'learning_rate': 0.1, 'l2_leaf_reg': 1, 'iterations': 50, 'depth': 10}\n",
      "0:\tlearn: 0.8325427\ttotal: 16.4ms\tremaining: 803ms\n",
      "1:\tlearn: 0.8412397\ttotal: 31.3ms\tremaining: 752ms\n",
      "2:\tlearn: 0.8440860\ttotal: 45.7ms\tremaining: 716ms\n",
      "3:\tlearn: 0.8462998\ttotal: 60.8ms\tremaining: 699ms\n",
      "4:\tlearn: 0.8456673\ttotal: 76.3ms\tremaining: 686ms\n",
      "5:\tlearn: 0.8481973\ttotal: 92ms\tremaining: 675ms\n",
      "6:\tlearn: 0.8510436\ttotal: 108ms\tremaining: 663ms\n",
      "7:\tlearn: 0.8530993\ttotal: 125ms\tremaining: 655ms\n",
      "8:\tlearn: 0.8561037\ttotal: 143ms\tremaining: 651ms\n",
      "9:\tlearn: 0.8583175\ttotal: 160ms\tremaining: 641ms\n",
      "10:\tlearn: 0.8600569\ttotal: 176ms\tremaining: 624ms\n",
      "11:\tlearn: 0.8619545\ttotal: 192ms\tremaining: 607ms\n",
      "12:\tlearn: 0.8630614\ttotal: 209ms\tremaining: 595ms\n",
      "13:\tlearn: 0.8640101\ttotal: 226ms\tremaining: 580ms\n",
      "14:\tlearn: 0.8643264\ttotal: 241ms\tremaining: 562ms\n",
      "15:\tlearn: 0.8662239\ttotal: 257ms\tremaining: 545ms\n",
      "16:\tlearn: 0.8673308\ttotal: 273ms\tremaining: 531ms\n",
      "17:\tlearn: 0.8687540\ttotal: 290ms\tremaining: 516ms\n",
      "18:\tlearn: 0.8689121\ttotal: 306ms\tremaining: 499ms\n",
      "19:\tlearn: 0.8711259\ttotal: 322ms\tremaining: 483ms\n",
      "20:\tlearn: 0.8716003\ttotal: 339ms\tremaining: 468ms\n",
      "21:\tlearn: 0.8734978\ttotal: 356ms\tremaining: 453ms\n",
      "22:\tlearn: 0.8757116\ttotal: 372ms\tremaining: 436ms\n",
      "23:\tlearn: 0.8768185\ttotal: 388ms\tremaining: 420ms\n",
      "24:\tlearn: 0.8766603\ttotal: 405ms\tremaining: 405ms\n",
      "25:\tlearn: 0.8790323\ttotal: 421ms\tremaining: 389ms\n",
      "26:\tlearn: 0.8796648\ttotal: 438ms\tremaining: 373ms\n",
      "27:\tlearn: 0.8796648\ttotal: 454ms\tremaining: 357ms\n",
      "28:\tlearn: 0.8795066\ttotal: 471ms\tremaining: 341ms\n",
      "29:\tlearn: 0.8807717\ttotal: 488ms\tremaining: 326ms\n",
      "30:\tlearn: 0.8810879\ttotal: 504ms\tremaining: 309ms\n",
      "31:\tlearn: 0.8802973\ttotal: 520ms\tremaining: 293ms\n",
      "32:\tlearn: 0.8820367\ttotal: 537ms\tremaining: 277ms\n",
      "33:\tlearn: 0.8826692\ttotal: 554ms\tremaining: 261ms\n",
      "34:\tlearn: 0.8833017\ttotal: 570ms\tremaining: 244ms\n",
      "35:\tlearn: 0.8840923\ttotal: 586ms\tremaining: 228ms\n",
      "36:\tlearn: 0.8847249\ttotal: 603ms\tremaining: 212ms\n",
      "37:\tlearn: 0.8848830\ttotal: 620ms\tremaining: 196ms\n",
      "38:\tlearn: 0.8858318\ttotal: 636ms\tremaining: 180ms\n",
      "39:\tlearn: 0.8883618\ttotal: 653ms\tremaining: 163ms\n",
      "40:\tlearn: 0.8889943\ttotal: 670ms\tremaining: 147ms\n",
      "41:\tlearn: 0.8889943\ttotal: 687ms\tremaining: 131ms\n",
      "42:\tlearn: 0.8894687\ttotal: 702ms\tremaining: 114ms\n",
      "43:\tlearn: 0.8907337\ttotal: 723ms\tremaining: 98.6ms\n",
      "44:\tlearn: 0.8908918\ttotal: 739ms\tremaining: 82.2ms\n",
      "45:\tlearn: 0.8915244\ttotal: 755ms\tremaining: 65.7ms\n",
      "46:\tlearn: 0.8916825\ttotal: 772ms\tremaining: 49.3ms\n",
      "47:\tlearn: 0.8931056\ttotal: 787ms\tremaining: 32.8ms\n",
      "48:\tlearn: 0.8950032\ttotal: 804ms\tremaining: 16.4ms\n",
      "49:\tlearn: 0.8956357\ttotal: 820ms\tremaining: 0us\n",
      "\n",
      "\n",
      "\n",
      "\\\\\\\\\\\\\\\\\\\\\\\\\\\\\\\\\\\\\\\n",
      "La valeur de la logLoss est de  0.3788590950972366\n",
      "\\\\\\\\\\\\\\\\\\\\\\\\\\\\\\\\\\\\\\\n"
     ]
    }
   ],
   "source": [
    "best_params, logloss   = test_model(X_train=X_train, y_train=y_train, number=2)"
   ]
  },
  {
   "cell_type": "code",
   "execution_count": 24,
   "id": "f3a97760-d963-423e-b62f-a82f8a4a4ee2",
   "metadata": {},
   "outputs": [
    {
     "data": {
      "text/plain": [
       "{'learning_rate': 0.1, 'l2_leaf_reg': 3, 'iterations': 150, 'depth': 6}"
      ]
     },
     "execution_count": 24,
     "metadata": {},
     "output_type": "execute_result"
    }
   ],
   "source": [
    "best_params\n",
    "#print(classification_report(y_test, y_pred_proba))"
   ]
  }
 ],
 "metadata": {
  "kernelspec": {
   "display_name": "Python 3 (ipykernel)",
   "language": "python",
   "name": "python3"
  },
  "language_info": {
   "codemirror_mode": {
    "name": "ipython",
    "version": 3
   },
   "file_extension": ".py",
   "mimetype": "text/x-python",
   "name": "python",
   "nbconvert_exporter": "python",
   "pygments_lexer": "ipython3",
   "version": "3.11.5"
  }
 },
 "nbformat": 4,
 "nbformat_minor": 5
}

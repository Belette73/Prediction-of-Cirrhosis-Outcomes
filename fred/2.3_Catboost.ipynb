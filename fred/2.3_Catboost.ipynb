{
 "cells": [
  {
   "cell_type": "markdown",
   "id": "63b1426e-ce60-4fde-b986-c194fb277318",
   "metadata": {},
   "source": [
    "<img src=\"optuna.png\" width=\"800\" height=\"800\">"
   ]
  },
  {
   "cell_type": "code",
   "execution_count": null,
   "id": "fc973b36-dffb-4e00-9cee-652cfcbda70d",
   "metadata": {},
   "outputs": [],
   "source": [
    "#Trial: a single execution of the objective function\n",
    "# Study: optimization based on an objective function"
   ]
  },
  {
   "cell_type": "code",
   "execution_count": 14,
   "id": "f182413c-91a6-4aab-ba89-2910f92deb74",
   "metadata": {},
   "outputs": [],
   "source": [
    "%run 0.0.dependances.ipynb"
   ]
  },
  {
   "cell_type": "code",
   "execution_count": 2,
   "id": "acabc505-77ed-42d5-a522-4f157c1d0f0d",
   "metadata": {},
   "outputs": [
    {
     "name": "stdout",
     "output_type": "stream",
     "text": [
      "creation de df_train\n",
      "-->Done\n",
      "\n",
      "identification des variables numériques et catégorielles \n",
      "-->Done\n",
      "\n",
      "la cible est la colonne : 18\n",
      "Colonnes catégorielles :  ['Drug', 'Sex', 'Ascites', 'Hepatomegaly', 'Spiders', 'Edema']\n",
      "\n",
      "Encodage des variables catégorielles avec Labelencoder\n",
      "-->Done\n",
      "\n",
      "préparation des données\n",
      "-->Done\n",
      "\n",
      "--> les indices des colonnes catégorielles sont :  [1, 3, 4, 5, 6, 7]\n",
      "préparation des données avec Robustscaler\n",
      "-->Done\n",
      "\n"
     ]
    }
   ],
   "source": [
    "X_train,X_test,y_train,y_test,target,data,cat_indicies= load_data()"
   ]
  },
  {
   "cell_type": "code",
   "execution_count": 3,
   "id": "b1f55f41-500a-4c2f-82b6-f24228a13dc1",
   "metadata": {},
   "outputs": [],
   "source": [
    "train_dataset = cb.Pool(X_train,y_train)\n",
    "test_dataset = cb.Pool(X_test,y_test)"
   ]
  },
  {
   "cell_type": "markdown",
   "id": "7f504a43-c310-4254-a3ea-4f4d0f41fdd0",
   "metadata": {},
   "source": [
    "## Essai 2"
   ]
  },
  {
   "cell_type": "code",
   "execution_count": 10,
   "id": "6933b912-449b-4642-b03d-64b772daa870",
   "metadata": {},
   "outputs": [
    {
     "data": {
      "application/vnd.jupyter.widget-view+json": {
       "model_id": "8e51524350f1492387405d14de263da7",
       "version_major": 2,
       "version_minor": 0
      },
      "text/plain": [
       "  0%|          | 0/50 [00:00<?, ?it/s]"
      ]
     },
     "metadata": {},
     "output_type": "display_data"
    },
    {
     "name": "stdout",
     "output_type": "stream",
     "text": [
      "Best trial:\n",
      "Value: 0.3536242666060361\n",
      "Params: \n",
      "    random_seed: 26.0\n",
      "    learning_rate: 0.084007819010894\n",
      "    depth: 4\n",
      "    iterations: 400\n"
     ]
    }
   ],
   "source": [
    "#V2\n",
    "\n",
    "def objective_cat(trial):\n",
    "    params = {\n",
    "        'logging_level': 'Silent',  # Set to a specific value\n",
    "        'random_seed': trial.suggest_float('random_seed', 1, 100, step=1),  # Explorer une série d'entiers\n",
    "        'learning_rate': trial.suggest_float('learning_rate',0.001,0.1,),\n",
    "        'depth': trial.suggest_int('depth', 3, 12),\n",
    "        'iterations': trial.suggest_int('iterations',100, 400)\n",
    "    }\n",
    "    model_cat = CatBoostClassifier(**params)\n",
    "    model_cat.fit(X_train, y_train)\n",
    "    y_pred = model_cat.predict_proba(X_test)\n",
    "    return log_loss(y_test, y_pred)\n",
    "\n",
    "study_cat = optuna.create_study(direction='minimize')\n",
    "optuna.logging.set_verbosity(optuna.logging.WARNING)\n",
    "study_cat.optimize(objective_cat, n_trials=50, show_progress_bar=True)\n",
    "\n",
    "print(\"Best trial:\")\n",
    "trial = study_cat.best_trial\n",
    "print(\"Value: {}\".format(trial.value))\n",
    "print(\"Params: \")\n",
    "for key, value in trial.params.items():\n",
    "    print(\"    {}: {}\".format(key, value))"
   ]
  },
  {
   "cell_type": "markdown",
   "id": "411f2e80-813b-4699-bb22-17df3cc4b557",
   "metadata": {},
   "source": [
    "## Essai 3"
   ]
  },
  {
   "cell_type": "code",
   "execution_count": 15,
   "id": "cc1226aa-3135-4bfb-9939-9316f74304d2",
   "metadata": {},
   "outputs": [
    {
     "data": {
      "application/vnd.jupyter.widget-view+json": {
       "model_id": "6cf8e1ec79924a4cb47a0ef92ea7adf2",
       "version_major": 2,
       "version_minor": 0
      },
      "text/plain": [
       "  0%|          | 0/150 [00:00<?, ?it/s]"
      ]
     },
     "metadata": {},
     "output_type": "display_data"
    },
    {
     "name": "stdout",
     "output_type": "stream",
     "text": [
      "Best trial:\n",
      "Value: 0.35460686367167354\n",
      "Params: \n",
      "    random_seed: 3.0\n",
      "    learning_rate: 0.08691465982578393\n",
      "    depth: 4\n",
      "    iterations: 282\n"
     ]
    }
   ],
   "source": [
    "#V3\n",
    "study_cat = optuna.create_study(direction='minimize')\n",
    "optuna.logging.set_verbosity(optuna.logging.WARNING)\n",
    "study_cat.optimize(objective_cat, n_trials=150, show_progress_bar=True)\n",
    "\n",
    "print(\"Best trial:\")\n",
    "trial = study_cat.best_trial\n",
    "print(\"Value: {}\".format(trial.value))\n",
    "print(\"Params: \")\n",
    "for key, value in trial.params.items():\n",
    "    print(\"    {}: {}\".format(key, value))"
   ]
  },
  {
   "cell_type": "code",
   "execution_count": null,
   "id": "8625f0bd-765d-49e2-98b3-10aef5eb8ac2",
   "metadata": {},
   "outputs": [],
   "source": []
  },
  {
   "cell_type": "code",
   "execution_count": null,
   "id": "4e294067-c1bd-4b18-a747-5e68ad89df98",
   "metadata": {},
   "outputs": [],
   "source": [
    "best_model = cb.CatBoostClassifier(**cbr_params)"
   ]
  },
  {
   "cell_type": "code",
   "execution_count": null,
   "id": "924ab218-0650-4e1c-82fe-573000c2c398",
   "metadata": {},
   "outputs": [],
   "source": [
    "plot_feature_importance(.get_feature_importance(),data.columns,'CATBOOST')"
   ]
  }
 ],
 "metadata": {
  "kernelspec": {
   "display_name": "Python 3 (ipykernel)",
   "language": "python",
   "name": "python3"
  },
  "language_info": {
   "codemirror_mode": {
    "name": "ipython",
    "version": 3
   },
   "file_extension": ".py",
   "mimetype": "text/x-python",
   "name": "python",
   "nbconvert_exporter": "python",
   "pygments_lexer": "ipython3",
   "version": "3.11.5"
  }
 },
 "nbformat": 4,
 "nbformat_minor": 5
}

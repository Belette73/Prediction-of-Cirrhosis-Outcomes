{
 "cells": [
  {
   "cell_type": "code",
   "execution_count": 1,
   "id": "bf18638f-2bf2-497e-b60b-f3ec92fec8ae",
   "metadata": {},
   "outputs": [],
   "source": [
    "%run 0.0.dependances.ipynb"
   ]
  },
  {
   "cell_type": "code",
   "execution_count": 2,
   "id": "9a12aa9c-bfc4-486b-9115-aaf844aef3c8",
   "metadata": {},
   "outputs": [
    {
     "name": "stdout",
     "output_type": "stream",
     "text": [
      "creation de df_train\n",
      "-->Done\n",
      "\n",
      "identification des variables numériques et catégorielles \n",
      "Colonnes numériques : ['N_Days', 'Age', 'Bilirubin', 'Cholesterol', 'Albumin', 'Copper', 'Alk_Phos', 'SGOT', 'Tryglicerides', 'Platelets', 'Prothrombin', 'Stage']\n",
      "\n",
      "Voici le type des colonnes numériques : \n",
      "\n",
      "<class 'pandas.core.frame.DataFrame'>\n",
      "Index: 7905 entries, 0 to 7904\n",
      "Data columns (total 12 columns):\n",
      " #   Column         Non-Null Count  Dtype  \n",
      "---  ------         --------------  -----  \n",
      " 0   N_Days         7905 non-null   int64  \n",
      " 1   Age            7905 non-null   int64  \n",
      " 2   Bilirubin      7905 non-null   float64\n",
      " 3   Cholesterol    7905 non-null   float64\n",
      " 4   Albumin        7905 non-null   float64\n",
      " 5   Copper         7905 non-null   float64\n",
      " 6   Alk_Phos       7905 non-null   float64\n",
      " 7   SGOT           7905 non-null   float64\n",
      " 8   Tryglicerides  7905 non-null   float64\n",
      " 9   Platelets      7905 non-null   float64\n",
      " 10  Prothrombin    7905 non-null   float64\n",
      " 11  Stage          7905 non-null   float64\n",
      "dtypes: float64(10), int64(2)\n",
      "memory usage: 802.9 KB\n",
      "Colonnes catégorielles : ['Sex', 'Ascites', 'Hepatomegaly', 'Spiders', 'Edema']\n",
      "\n",
      "Voici le type des colonnes catégorielles: \n",
      "\n",
      "<class 'pandas.core.frame.DataFrame'>\n",
      "Index: 7905 entries, 0 to 7904\n",
      "Data columns (total 5 columns):\n",
      " #   Column        Non-Null Count  Dtype \n",
      "---  ------        --------------  ----- \n",
      " 0   Sex           7905 non-null   object\n",
      " 1   Ascites       7905 non-null   object\n",
      " 2   Hepatomegaly  7905 non-null   object\n",
      " 3   Spiders       7905 non-null   object\n",
      " 4   Edema         7905 non-null   object\n",
      "dtypes: object(5)\n",
      "memory usage: 370.5+ KB\n",
      "-->Done\n",
      "\n",
      "la cible est la colonne : 17\n",
      "Colonnes catégorielles :  ['Sex', 'Ascites', 'Hepatomegaly', 'Spiders', 'Edema']\n",
      "\n",
      "Encodage des variables catégorielles avec Labelencoder\n",
      "-->Done\n",
      "\n",
      "préparation des données\n",
      "--> Done\n",
      "\n",
      "--> les indices des colonnes catégorielles sont :  [2, 3, 4, 5, 6]\n",
      "préparation des données avec Robustscaler\n",
      "-->Done\n",
      "\n"
     ]
    }
   ],
   "source": [
    "X_train,X_test,y_train,y_test,target,data,cat_indicies= load_data3()"
   ]
  },
  {
   "cell_type": "code",
   "execution_count": 4,
   "id": "39ab767a-b224-4dda-8994-8407865206bc",
   "metadata": {},
   "outputs": [],
   "source": [
    "def objective_cat(trial):\n",
    "    params = {\n",
    "        'logging_level': 'Silent',  # Set to a specific value\n",
    "        'random_seed': trial.suggest_float('random_seed', 1, 100, step=1),  # Explorer une série d'entiers\n",
    "        'learning_rate': trial.suggest_float('learning_rate',0.001,0.1,),\n",
    "        'depth': trial.suggest_int('depth', 3, 12),\n",
    "        'iterations': trial.suggest_int('iterations',100, 400)\n",
    "    }\n",
    "    model_cat = CatBoostClassifier(**params)\n",
    "    model_cat.fit(X_train, y_train)\n",
    "    y_pred = model_cat.predict_proba(X_test)\n",
    "    return log_loss(y_test, y_pred)\n"
   ]
  },
  {
   "cell_type": "code",
   "execution_count": 5,
   "id": "0961a3b0-efba-4995-8d16-4d8e5de28ec5",
   "metadata": {},
   "outputs": [
    {
     "name": "stderr",
     "output_type": "stream",
     "text": [
      "[I 2023-12-30 09:15:02,674] A new study created in memory with name: no-name-dca84fdb-8abe-4b04-a9eb-9c6cab9929d3\n"
     ]
    },
    {
     "data": {
      "application/vnd.jupyter.widget-view+json": {
       "model_id": "1c7e4e6d4d794a8ca4e049dd7502080a",
       "version_major": 2,
       "version_minor": 0
      },
      "text/plain": [
       "  0%|          | 0/150 [00:00<?, ?it/s]"
      ]
     },
     "metadata": {},
     "output_type": "display_data"
    },
    {
     "name": "stdout",
     "output_type": "stream",
     "text": [
      "Best trial:\n",
      "Value: 0.42916765990927996\n",
      "Best Params: \n",
      "    {key}: {value)}\n",
      "    {key}: {value)}\n",
      "    {key}: {value)}\n",
      "    {key}: {value)}\n"
     ]
    }
   ],
   "source": [
    "#recherche du meilleur modèle avec optuna\n",
    "study_cat = optuna.create_study(direction='minimize')\n",
    "optuna.logging.set_verbosity(optuna.logging.WARNING)\n",
    "study_cat.optimize(objective_cat, n_trials=150, show_progress_bar=True)\n",
    "\n",
    "print(\"Best trial:\")\n",
    "trial = study_cat.best_trial\n",
    "print(f\"Value: {trial.value}\")\n",
    "print(\"Best Params: \")\n",
    "for key, value in trial.params.items():\n",
    "    print(\"    {key}: {value)}\")"
   ]
  },
  {
   "cell_type": "code",
   "execution_count": null,
   "id": "2e2b92fc-6fa2-47f2-983d-c006397b1552",
   "metadata": {},
   "outputs": [],
   "source": [
    "#Entrainement du meilleur modèle, suivi de la LogLoss\n",
    "best_model = CatBoostClassifier(**study_cat.best_params)\n",
    "best_model.fit(X_train, y_train)\n",
    "y_pred = best_model.predict_proba(X_test)\n",
    "\n",
    "print('Log Loss: ', log_loss(y_test, y_pred))"
   ]
  }
 ],
 "metadata": {
  "kernelspec": {
   "display_name": "Python 3 (ipykernel)",
   "language": "python",
   "name": "python3"
  },
  "language_info": {
   "codemirror_mode": {
    "name": "ipython",
    "version": 3
   },
   "file_extension": ".py",
   "mimetype": "text/x-python",
   "name": "python",
   "nbconvert_exporter": "python",
   "pygments_lexer": "ipython3",
   "version": "3.11.5"
  }
 },
 "nbformat": 4,
 "nbformat_minor": 5
}

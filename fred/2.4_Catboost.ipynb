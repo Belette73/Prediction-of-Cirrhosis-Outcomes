{
 "cells": [
  {
   "cell_type": "markdown",
   "id": "63b1426e-ce60-4fde-b986-c194fb277318",
   "metadata": {},
   "source": [
    "<img src=\"optuna.png\" width=\"800\" height=\"800\">"
   ]
  },
  {
   "cell_type": "code",
   "execution_count": 1,
   "id": "fc973b36-dffb-4e00-9cee-652cfcbda70d",
   "metadata": {},
   "outputs": [],
   "source": [
    "#Trial: a single execution of the objective function\n",
    "# Study: optimization based on an objective function"
   ]
  },
  {
   "cell_type": "code",
   "execution_count": 2,
   "id": "f182413c-91a6-4aab-ba89-2910f92deb74",
   "metadata": {},
   "outputs": [],
   "source": [
    "%run 0.0.dependances.ipynb"
   ]
  },
  {
   "cell_type": "code",
   "execution_count": 3,
   "id": "acabc505-77ed-42d5-a522-4f157c1d0f0d",
   "metadata": {},
   "outputs": [
    {
     "name": "stdout",
     "output_type": "stream",
     "text": [
      "creation de df_train\n",
      "-->Done\n",
      "\n",
      "identification des variables numériques et catégorielles \n",
      "Colonnes numériques : ['N_Days', 'Age', 'Bilirubin', 'Cholesterol', 'Albumin', 'Copper', 'Alk_Phos', 'SGOT', 'Tryglicerides', 'Platelets', 'Prothrombin', 'Stage']\n",
      "\n",
      "Voici le type des colonnes numériques : \n",
      "\n",
      "<class 'pandas.core.frame.DataFrame'>\n",
      "Index: 7905 entries, 0 to 7904\n",
      "Data columns (total 12 columns):\n",
      " #   Column         Non-Null Count  Dtype  \n",
      "---  ------         --------------  -----  \n",
      " 0   N_Days         7905 non-null   int64  \n",
      " 1   Age            7905 non-null   int64  \n",
      " 2   Bilirubin      7905 non-null   float64\n",
      " 3   Cholesterol    7905 non-null   float64\n",
      " 4   Albumin        7905 non-null   float64\n",
      " 5   Copper         7905 non-null   float64\n",
      " 6   Alk_Phos       7905 non-null   float64\n",
      " 7   SGOT           7905 non-null   float64\n",
      " 8   Tryglicerides  7905 non-null   float64\n",
      " 9   Platelets      7905 non-null   float64\n",
      " 10  Prothrombin    7905 non-null   float64\n",
      " 11  Stage          7905 non-null   float64\n",
      "dtypes: float64(10), int64(2)\n",
      "memory usage: 802.9 KB\n",
      "Colonnes catégorielles : ['Sex', 'Ascites', 'Hepatomegaly', 'Spiders', 'Edema']\n",
      "\n",
      "Voici le type des colonnes catégorielles: \n",
      "\n",
      "<class 'pandas.core.frame.DataFrame'>\n",
      "Index: 7905 entries, 0 to 7904\n",
      "Data columns (total 5 columns):\n",
      " #   Column        Non-Null Count  Dtype \n",
      "---  ------        --------------  ----- \n",
      " 0   Sex           7905 non-null   object\n",
      " 1   Ascites       7905 non-null   object\n",
      " 2   Hepatomegaly  7905 non-null   object\n",
      " 3   Spiders       7905 non-null   object\n",
      " 4   Edema         7905 non-null   object\n",
      "dtypes: object(5)\n",
      "memory usage: 370.5+ KB\n",
      "-->Done\n",
      "\n",
      "la cible est la colonne : 17\n",
      "Colonnes catégorielles :  ['Sex', 'Ascites', 'Hepatomegaly', 'Spiders', 'Edema']\n",
      "\n",
      "Encodage des variables catégorielles avec Labelencoder\n",
      "-->Done\n",
      "\n",
      "préparation des données\n",
      "--> Done\n",
      "\n",
      "--> les indices des colonnes catégorielles sont :  [2, 3, 4, 5, 6]\n",
      "préparation des données avec Robustscaler\n",
      "-->Done\n",
      "\n"
     ]
    }
   ],
   "source": [
    "X_train,X_test,y_train,y_test,target,data,cat_indicies= load_data2()"
   ]
  },
  {
   "cell_type": "code",
   "execution_count": 4,
   "id": "b1f55f41-500a-4c2f-82b6-f24228a13dc1",
   "metadata": {},
   "outputs": [],
   "source": [
    "train_dataset = cb.Pool(X_train,y_train)\n",
    "test_dataset = cb.Pool(X_test,y_test)"
   ]
  },
  {
   "cell_type": "code",
   "execution_count": 5,
   "id": "be0dead6-63d3-4747-b2ae-0e424e0e8ffe",
   "metadata": {},
   "outputs": [],
   "source": [
    "def objective_cat(trial):\n",
    "    params = {\n",
    "        'logging_level': 'Silent',  # Set to a specific value\n",
    "        'random_seed': trial.suggest_float('random_seed', 1, 100, step=1),  # Explorer une série d'entiers\n",
    "        'learning_rate': trial.suggest_float('learning_rate',0.001,0.1,),\n",
    "        'depth': trial.suggest_int('depth', 3, 12),\n",
    "        'iterations': trial.suggest_int('iterations',100, 400)\n",
    "    }\n",
    "    model_cat = CatBoostClassifier(**params)\n",
    "    model_cat.fit(X_train, y_train)\n",
    "    y_pred = model_cat.predict_proba(X_test)\n",
    "    return log_loss(y_test, y_pred)\n"
   ]
  },
  {
   "cell_type": "code",
   "execution_count": null,
   "id": "cc1226aa-3135-4bfb-9939-9316f74304d2",
   "metadata": {},
   "outputs": [
    {
     "data": {
      "application/vnd.jupyter.widget-view+json": {
       "model_id": "87524e12373940e1ba283a96e11cc848",
       "version_major": 2,
       "version_minor": 0
      },
      "text/plain": [
       "  0%|          | 0/350 [00:00<?, ?it/s]"
      ]
     },
     "metadata": {},
     "output_type": "display_data"
    }
   ],
   "source": [
    "#recherche du meilleur modèle avec optuna\n",
    "study_cat = optuna.create_study(direction='minimize')\n",
    "optuna.logging.set_verbosity(optuna.logging.WARNING)\n",
    "study_cat.optimize(objective_cat, n_trials=350, show_progress_bar=True)\n",
    "\n",
    "print(\"Best trial:\")\n",
    "trial = study_cat.best_trial\n",
    "print(f\"Value: {trial.value}\")\n",
    "print(\"Best Params: \")\n",
    "for key, value in trial.params.items():\n",
    "    print(\"    {key}: {value)}\")"
   ]
  },
  {
   "cell_type": "code",
   "execution_count": 16,
   "id": "8625f0bd-765d-49e2-98b3-10aef5eb8ac2",
   "metadata": {},
   "outputs": [
    {
     "data": {
      "application/vnd.jupyter.widget-view+json": {
       "model_id": "56801e8b0a684d4ba3890448f0bd6591",
       "version_major": 2,
       "version_minor": 0
      },
      "text/plain": [
       "MetricVisualizer(layout=Layout(align_self='stretch', height='500px'))"
      ]
     },
     "metadata": {},
     "output_type": "display_data"
    },
    {
     "name": "stdout",
     "output_type": "stream",
     "text": [
      "\n",
      "\n",
      "\n",
      "Log Loss:  0.3541197129236815\n"
     ]
    }
   ],
   "source": [
    "#Entrainement du meilleur modèle, suivi de la LogLoss\n",
    "best_model = CatBoostClassifier(**study_cat.best_params)\n",
    "best_model.fit(X_train, y_train, verbose=False,\n",
    "       plot=True)\n",
    "\n",
    "print(\"\\n\\n\")\n",
    "y_pred = best_model.predict_proba(X_test)\n",
    "print('Log Loss: ', log_loss(y_test, y_pred))"
   ]
  },
  {
   "cell_type": "code",
   "execution_count": null,
   "id": "acf6dfa8-ce22-46a0-a34c-0ef7de5eb95f",
   "metadata": {},
   "outputs": [],
   "source": [
    "#Courbe LogLoss"
   ]
  },
  {
   "cell_type": "code",
   "execution_count": null,
   "id": "5e2301ca-f21d-4ec5-b6f1-4f3d588365b3",
   "metadata": {},
   "outputs": [],
   "source": [
    "plt.figure(figsize=(12,4))\n",
    "\n",
    "plt.subplot(121)\n",
    "plt.plot(history.history['loss'])\n",
    "plt.plot(history.history['val_loss'])\n",
    "plt.title('Model loss by epoch')\n",
    "plt.ylabel('loss')\n",
    "plt.xlabel('epoch')\n",
    "plt.legend(['train', 'test'], loc='right')\n",
    "\n",
    "plt.subplot(122)\n",
    "plt.plot(history.history['acc'])\n",
    "plt.plot(history.history['val_acc'])\n",
    "plt.title('Model acc by epoch')\n",
    "plt.ylabel('acc')\n",
    "plt.xlabel('epoch')\n",
    "plt.legend(['train', 'test'], loc='right')\n",
    "plt.show()\n"
   ]
  },
  {
   "cell_type": "code",
   "execution_count": null,
   "id": "3e0d18fc-e827-4c97-829c-24890b8808ee",
   "metadata": {},
   "outputs": [],
   "source": []
  },
  {
   "cell_type": "code",
   "execution_count": 9,
   "id": "924ab218-0650-4e1c-82fe-573000c2c398",
   "metadata": {},
   "outputs": [
    {
     "data": {
      "image/png": "[encoded data removed]",
      "text/plain": [
       "<Figure size 1000x800 with 1 Axes>"
      ]
     },
     "metadata": {},
     "output_type": "display_data"
    }
   ],
   "source": [
    "#Examen des caractéristiques les plus imporantes pour l'algorihtme\n",
    "path = r\"C:\\Users\\Frederic\\Documents\\GitHub\\Tennis_analysis\\Prediction-of-Cirrhosis-Outcomes\"\n",
    "train_path = os.path.abspath(path) + \"/data\" +\"/train.csv\"\n",
    "df_train = pd.read_csv(train_path,index_col='id')\n",
    "data = df_train.drop(columns=[\"Status\"])\n",
    "data = data.drop(columns=[\"Drug\"])\n",
    "plot_feature_importance(best_model.get_feature_importance(),data.columns,'CATBOOST')"
   ]
  },
  {
   "cell_type": "code",
   "execution_count": 13,
   "id": "bb8d6c1f-19e0-4e7c-9aad-db04ffadfd9e",
   "metadata": {},
   "outputs": [
    {
     "data": {
      "text/plain": [
       "(1581, 2)"
      ]
     },
     "execution_count": 13,
     "metadata": {},
     "output_type": "execute_result"
    }
   ],
   "source": [
    "y_pred.shape"
   ]
  },
  {
   "cell_type": "code",
   "execution_count": 12,
   "id": "864d3257-74f5-457e-b741-9417febe52d2",
   "metadata": {},
   "outputs": [
    {
     "data": {
      "text/plain": [
       "(1581,)"
      ]
     },
     "execution_count": 12,
     "metadata": {},
     "output_type": "execute_result"
    }
   ],
   "source": [
    "y_test.shape"
   ]
  },
  {
   "cell_type": "code",
   "execution_count": null,
   "id": "4fec670b-746b-4a39-914a-9254a4c9ac96",
   "metadata": {},
   "outputs": [],
   "source": []
  }
 ],
 "metadata": {
  "kernelspec": {
   "display_name": "Python 3 (ipykernel)",
   "language": "python",
   "name": "python3"
  },
  "language_info": {
   "codemirror_mode": {
    "name": "ipython",
    "version": 3
   },
   "file_extension": ".py",
   "mimetype": "text/x-python",
   "name": "python",
   "nbconvert_exporter": "python",
   "pygments_lexer": "ipython3",
   "version": "3.11.5"
  }
 },
 "nbformat": 4,
 "nbformat_minor": 5
}
